{
 "cells": [
  {
   "cell_type": "code",
   "execution_count": 11,
   "metadata": {},
   "outputs": [
    {
     "data": {
      "text/plain": [
       "array([1.+0.j, 2.+0.j])"
      ]
     },
     "execution_count": 11,
     "metadata": {},
     "output_type": "execute_result"
    }
   ],
   "source": [
    "import numpy as np\n",
    "\n",
    "a = np.arange(6)\n",
    "a2 = a[np.newaxis, :]\n",
    "a2.shape\n",
    "\n",
    "a3 = np.arange(15).reshape(3,5)\n",
    "a3\n",
    "\n",
    "# the dimensions of the array. This is a tuple of integers \n",
    "# indicating the size of the array in each dimension. For a matrix with n rows \n",
    "# and m columns, shape will be (n,m). The length of the \n",
    "# shape tuple is therefore the number of axes, ndim.\n",
    "a3.shape\n",
    "# (3, 5)\n",
    "\n",
    "# the number of axes (dimensions) of the array.\n",
    "a3.ndim\n",
    "# 2\n",
    "\n",
    "# an object describing the type of the elements in the array\n",
    "a3.dtype.name\n",
    "# 'int32'\n",
    "\n",
    "# the size in bytes of each element of the array\n",
    "a3.itemsize\n",
    "# 4\n",
    "\n",
    "# Size of the array\n",
    "a3.size\n",
    "# 15\n",
    "\n",
    "type(a3)\n",
    "# numpy.ndarray\n",
    "\n",
    "b = np.array([6,7,8])\n",
    "b\n",
    "\n",
    "type(b)\n",
    "# numpy.ndarray\n",
    "\n",
    "# transforms sequences of sequences into two-dimensional arrays\n",
    "b2 = np.array([1.5,2,3]), ([4,5,6])\n",
    "b2\n",
    "# (array([1.5, 2. , 3. ]), [4, 5, 6]\n",
    "\n",
    "# The type of the array can also be explicitly specified at creation time\n",
    "c = np.array([1,2], dtype=complex)\n",
    "c\n",
    "# array([1.+0.j, 2.+0.j])"
   ]
  },
  {
   "cell_type": "code",
   "execution_count": null,
   "metadata": {},
   "outputs": [],
   "source": []
  }
 ],
 "metadata": {
  "kernelspec": {
   "display_name": "base",
   "language": "python",
   "name": "python3"
  },
  "language_info": {
   "codemirror_mode": {
    "name": "ipython",
    "version": 3
   },
   "file_extension": ".py",
   "mimetype": "text/x-python",
   "name": "python",
   "nbconvert_exporter": "python",
   "pygments_lexer": "ipython3",
   "version": "3.9.16"
  },
  "orig_nbformat": 4,
  "vscode": {
   "interpreter": {
    "hash": "aea149784bd30735ce6bf75b9a5314843328adf2083b944f20623ef50c2ca00d"
   }
  }
 },
 "nbformat": 4,
 "nbformat_minor": 2
}
